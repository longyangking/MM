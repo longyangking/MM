{
 "cells": [
  {
   "cell_type": "markdown",
   "metadata": {},
   "source": [
    "# Practical Statistics\n",
    "> Author: Yang Long  \n",
    "> Email: longyang_123@yeah.net\n",
    "\n",
    "+ Statistical concepts\n",
    "+ Sample Representation\n",
    "+ Big sample distribution\n",
    "+ Small sample distribution\n",
    "+ Whole analysis and inference\n",
    "+ Hypothesis verification\n",
    "+ Element analysis and principal component analysis\n",
    "+ Missing values\n",
    "+ Time Series analysis"
   ]
  },
  {
   "cell_type": "markdown",
   "metadata": {},
   "source": [
    "# Statistical Concepts"
   ]
  },
  {
   "cell_type": "markdown",
   "metadata": {},
   "source": [
    "## Mean\n",
    "For distribution, \n",
    "$$ \\mu = \\frac{1}{n} \\sum_{i=1}^{n} x_i $$\n",
    "For samples $\\{x_i\\}$,\n",
    "$$ \\overline{x} = \\frac{1}{n} \\sum_{i=1}^{n} x_i $$"
   ]
  },
  {
   "cell_type": "markdown",
   "metadata": {},
   "source": [
    "## Variance\n",
    "For distribution,\n",
    "$$ \\sigma^2 = \\frac {1}{n} \\sum_{i=1}^{n} (x_i - \\mu)^2 $$\n",
    "\n",
    "For samples $\\{x_i\\}$,\n",
    "$$ \\sigma^2 = \\frac {1}{n} \\sum_{i=1}^{n} (x_i - \\overline{x})^2 $$\n",
    "\n",
    "To estimate the whole variance from sample variance, we need to use modified variance:\n",
    "$$ \\sigma^2 = \\frac {1}{n-1} \\sum_{i=1}^{n} (x_i - \\overline{x})^2 $$"
   ]
  },
  {
   "cell_type": "markdown",
   "metadata": {},
   "source": [
    "## Covariance\n",
    "For smaples $\\{x_i\\}$, $\\{y_i\\}$,\n",
    "$$ Cov(x,y) = \\frac{1}{n} \\sum_{i=1}^{n} (x_i - \\overline{x})(y_i - \\overline{y}) $$\n",
    "$$ Cov(X,Y) = E[(X-E[X])(Y-E[Y])] = E[XY]-E[X]E[Y] $$"
   ]
  },
  {
   "cell_type": "markdown",
   "metadata": {},
   "source": [
    "## Expection and Variance\n",
    "The expection:\n",
    "$$ E(X) = \\frac{1}{n} \\sum_{i=1}^{n} X_i $$\n",
    "\n",
    "The variance:\n",
    "$$ D(X) = E((X-E(X))^2) = E(X^2 - 2XE(X) + E(X)^2) = E(X^2)-E(X)^2 $$"
   ]
  },
  {
   "cell_type": "markdown",
   "metadata": {},
   "source": [
    "# Distribution of Big Sample"
   ]
  },
  {
   "cell_type": "markdown",
   "metadata": {},
   "source": [
    "## Law of Large Numbers\n",
    "The __Law of Large Numbers(LLN)__ is a theorem that describes the result of performing the same experiment a large number of times. According to the law, the average of the results obtained from a large number of trials should be close to the expected value, and will tend to become closer as more trials are performed.\n",
    "\n",
    "The LLN is important because it \"guarantees\" stable long-term results for the averages of some random events. It's important to remember that the LLN only applies(as the name indicates) when a _large number_ of observations are considered. There is no principle that a small number of observations will coincide with the expected value or that a streak of one value will immediately be \"balanced\" by the others."
   ]
  },
  {
   "cell_type": "markdown",
   "metadata": {},
   "source": [
    "## Central Limit Theorem\n",
    "In probability theory, the __Central Limit Theorem(CLT)__ states that, given certain conditions, the arithmetic mean of a sufficiently large number of iterates of independent random variables, each with a well-defined(finite) expected value and finite variance, will be approximately normally distributed, regardless of the underlying distribution. \n",
    "\n",
    "To illustrate what this means, suppose that a sample is obtained containing a large number of observations, each observation being randomly generated in a way that does not depend on the values of the other observations, and that the arithmetic average of the observed values is computed. If this procedure is performed many times, the central limit theorem says that the computed values of the average will be distributed according to the normal distribution. \n",
    "\n",
    "The central limit theorem has a number of variants. In its common form, the random variables must be identically distributed. In variants, convergence of the mean to the normal distribution also occurs for non-identical distribution or for non-independent observations, given that they comply with certain conditions.\n",
    "\n",
    "In more general usage, a central limit theorem is any of a set of weak-convergence theorems in probability theory. They all express the fact that a sum of many independent and identically distributed (IID) random variables, or alternatively, random variables with specific types of dependence, will tend to be distributed according to one of a small set of _attractor distributions_. When the variance of the independent and identically distributed variables is finite, the attractor distribution is the normal distribution. In contrast, the sum of a number of IID random variables with power law tail distributions decreasing as $|x|^{-\\alpha-1}$ where $0<\\alpha<2$ (and therefore having infinite variance) will tend to an alpha-stable distribution with stability parameter (or index of stability) of $\\alpha$ as the number of variables grows."
   ]
  },
  {
   "cell_type": "markdown",
   "metadata": {},
   "source": [
    "### Classical CLT\n",
    "Let ${X_1,...,X_n}$ be a random sample of size $n$ -- that is, a sequence of independent and identically distributed random variables drawn from distributions of expected values give by $\\mu$ and finite variances given by $\\sigma^2$. Suppose we are interested in the sample average\n",
    "$$S_n = \\frac {X_1+...+X_n} {n}$$\n",
    "of these random variables. By the law of large numbers, the sample averages converge in probability and almost surely to the expected value $\\mu$ as $n \\to \\infty$. The classical central limit theorem describes the size and the distributional form of the stochastic flutuations around the deterministic number $\\mu$ during this convergence. More precisely, it states that as $n$ gets larger, the distribution of the difference between the sample average $S_n$ and its limit $\\mu$, when multiplied by the factor $\\sqrt{n}$ (that is $\\sqrt{n}(S_n-\\mu)$, approximates the normal distribution with mean 0 and variance $\\sigma^2$. For large enough $n$, the distribution of $S_n$ is close to the normal distribution with mean $\\mu$ and variance $\\frac{\\sigma^2}{n}$. The usefulness of the theorem is that the distribution of $\\sqrt{n}(S_n-\\mu)$ approaches normality regardless of the shape of the distribution of the individual $X_i$'s. Formally, the theorem can be stated as follows:\n",
    "\n",
    "> __Lindeberg-L$\\acute{e}$vy CLT__. Suppose $\\{X_1,X_2,...\\}$ is a sequence of independent and identically distributed random variables with $E[X_i] = \\mu$ and $Var[X_i] = \\sigma^2 < \\infty$. Then as $n$ approaches infinity, the random variables $\\sqrt{n}(S_n-\\mu)$ converge in distribution to a normal $N(0,\\sigma^2)$:  \n",
    ">$$\\sqrt{n} \\left(\\left(\\frac{1}{n}\\sum_{i=1}^{n}X_i\\right)-\\mu\\right) \\xrightarrow{d} N(0,\\sigma^2)$$\n",
    "\n",
    "In the case $\\sigma > 0$, convergence in distribution means that the cumulative distribution functions of $\\sqrt{n}(S_n-\\mu)$ converge pointwise to the cdf of the $N(0,\\sigma^2)$ distribution: for every real number $z$,\n",
    "$$lim_{n \\to \\infty} Pr[\\sqrt{n}(S_n-\\mu)\\le z] = \\Phi(z/\\sigma)$$\n",
    "\n",
    "where $\\Phi(x)$ is the standard normal cdf evaluated at $x$. Note that the convergence is uniform in $z$ in the sense that\n",
    "$$\\lim_{n \\to \\infty} \\sup_{z\\in \\textbf{R}} |Pr[\\sqrt{n}(S_n-\\mu)\\le z]-\\Phi(z/\\sigma)|=0$$\n",
    "\n",
    "where sup denotes the least upper bound(or supremum) of the set."
   ]
  },
  {
   "cell_type": "markdown",
   "metadata": {
    "collapsed": true
   },
   "source": [
    "# Regression Analysis"
   ]
  },
  {
   "cell_type": "markdown",
   "metadata": {},
   "source": [
    "## Residue\n",
    "The definition:\n",
    "$$ \\hat{\\epsilon} = y - \\hat{y} $$"
   ]
  },
  {
   "cell_type": "markdown",
   "metadata": {},
   "source": [
    "## Mean Square Error (MSE)\n",
    "The definition:\n",
    "$$ MSE = \\frac{1}{n} \\sum_{i=1}^{n} (\\hat{Y}_i - Y_i)^2 $$"
   ]
  },
  {
   "cell_type": "markdown",
   "metadata": {},
   "source": [
    "## Normal distribution test"
   ]
  },
  {
   "cell_type": "markdown",
   "metadata": {},
   "source": [
    "### $\\chi^2$ Test"
   ]
  },
  {
   "cell_type": "markdown",
   "metadata": {},
   "source": [
    "### Kolmogorov-Smirnov Test"
   ]
  },
  {
   "cell_type": "markdown",
   "metadata": {},
   "source": [
    "### Lilliefor Test"
   ]
  },
  {
   "cell_type": "markdown",
   "metadata": {},
   "source": [
    "# Data Process"
   ]
  },
  {
   "cell_type": "markdown",
   "metadata": {},
   "source": [
    "## Data Clean and Missing Data\n",
    "In the other words, missing data is one kind of feature of data set."
   ]
  },
  {
   "cell_type": "markdown",
   "metadata": {},
   "source": [
    "# Add more features"
   ]
  },
  {
   "cell_type": "code",
   "execution_count": null,
   "metadata": {
    "collapsed": true
   },
   "outputs": [],
   "source": []
  }
 ],
 "metadata": {
  "kernelspec": {
   "display_name": "Python 2",
   "language": "python",
   "name": "python2"
  },
  "language_info": {
   "codemirror_mode": {
    "name": "ipython",
    "version": 2
   },
   "file_extension": ".py",
   "mimetype": "text/x-python",
   "name": "python",
   "nbconvert_exporter": "python",
   "pygments_lexer": "ipython2",
   "version": "2.7.10"
  }
 },
 "nbformat": 4,
 "nbformat_minor": 0
}
