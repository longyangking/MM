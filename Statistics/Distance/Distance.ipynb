{
 "cells": [
  {
   "cell_type": "markdown",
   "metadata": {},
   "source": [
    "# Distance"
   ]
  },
  {
   "cell_type": "markdown",
   "metadata": {},
   "source": [
    "# Bhattacharyya Distance\n",
    "Bhattacharyya distance measures the similarity of two discrete or continuous probability distributions"
   ]
  },
  {
   "cell_type": "markdown",
   "metadata": {},
   "source": [
    "## Two separate distributions or classes  \n",
    "$p$,$q$ are two different distributions, $\\mu_p$ is the mean of the $p$-th distribution, $\\sigma^2_p$ is the variance of the $p$-th distribution. The Bhattacharyya distance between p and q distributions or classes:\n",
    "$$ D_B(p,q) = \\frac{1}{4} ln \\left(\\frac{1}{4}\\left(\\frac{\\sigma^2_p}{\\sigma^2_q} + \\frac{\\sigma^2_q}{\\sigma^2_p}+2\\right)\\right)+\\frac{1}{4}\\left(\\frac{(\\mu_p-\\mu_q)^2}{\\sigma^2_p+\\sigma^2_q}\\right)$$"
   ]
  },
  {
   "cell_type": "markdown",
   "metadata": {},
   "source": [
    "## Multivariate normal distributions\n",
    "$p_i = N(\\mu_i,\\Sigma_i)$, the Bhattacharyya distance:\n",
    "$$D_B = \\frac{1}{8} (\\mu_1-\\mu_2)^T \\Sigma^{-1}(\\mu_1-\\mu_2)+\\frac{1}{2} ln \\left( \\frac{det \\Sigma}{\\sqrt{det \\Sigma_1 det \\Sigma_2}} \\right)$$\n",
    "where, $\\mu_i$ and $\\Sigma_i$ are the means and covariances of the distributions, and $\\Sigma = \\frac{\\Sigma_1+\\Sigma_2}{2}$."
   ]
  }
 ],
 "metadata": {
  "kernelspec": {
   "display_name": "Python 2",
   "language": "python",
   "name": "python2"
  },
  "language_info": {
   "codemirror_mode": {
    "name": "ipython",
    "version": 2
   },
   "file_extension": ".py",
   "mimetype": "text/x-python",
   "name": "python",
   "nbconvert_exporter": "python",
   "pygments_lexer": "ipython2",
   "version": "2.7.12"
  }
 },
 "nbformat": 4,
 "nbformat_minor": 0
}
